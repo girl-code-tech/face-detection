{
 "cells": [
  {
   "cell_type": "code",
   "execution_count": 1,
   "metadata": {},
   "outputs": [],
   "source": [
    "import cv2 as cv\n",
    "from random import randrange\n",
    "#The randrange() method returns a randomly selected element from range(start, stop, step)."
   ]
  },
  {
   "cell_type": "code",
   "execution_count": 6,
   "metadata": {},
   "outputs": [],
   "source": [
    "#Loading some pretrained datamodel\n",
    "#generally we need to train our model to make use of Algorithms\n",
    "#but training takes alot of time\n",
    "#so we make use of some pretrained model by openCV\n",
    "trained_face_data=cv.CascadeClassifier('haarcascade_frontalface_default.xml')\n",
    "\n",
    "#Using webCam to detect images\n",
    "cap=cv.VideoCapture(0)\n",
    "\n",
    "\n",
    "\n",
    "while True:\n",
    "    ret, frame=cap.read()\n",
    "#must convert to grayScale\n",
    "    grayScale=cv.cvtColor(frame, cv.COLOR_BGR2GRAY)\n",
    "    #Detect faces\n",
    "    face_coordinates=trained_face_data.detectMultiScale(grayScale)\n",
    "\n",
    "    for (x, y, w, h) in face_coordinates:\n",
    "    #cv2.rectangle(image, (x, y), (x+w, y+h), (0, 255, 0), 2)\n",
    "    #Draw rectangles around the faces\n",
    "    #(x,y,w,h)=face_coordinates\n",
    "        cv.rectangle(grayScale,(x,y),(x+w, y+h), (randrange(256),randrange(256),randrange(256)),2)\n",
    "    \n",
    "     #Display the video\n",
    "    cv.imshow('RDJ', grayScale)\n",
    "   \n",
    "    if cv.waitKey(1) & 0xFF== ord('q'):\n",
    "        break\n",
    "    \n",
    "    \n",
    "cap.release()\n",
    "cv.destroyAllWindows()\n",
    "    \n",
    "\n",
    "\n",
    "\n",
    "\n"
   ]
  },
  {
   "cell_type": "code",
   "execution_count": null,
   "metadata": {},
   "outputs": [],
   "source": []
  }
 ],
 "metadata": {
  "kernelspec": {
   "display_name": "Python 3",
   "language": "python",
   "name": "python3"
  },
  "language_info": {
   "codemirror_mode": {
    "name": "ipython",
    "version": 3
   },
   "file_extension": ".py",
   "mimetype": "text/x-python",
   "name": "python",
   "nbconvert_exporter": "python",
   "pygments_lexer": "ipython3",
   "version": "3.8.5"
  }
 },
 "nbformat": 4,
 "nbformat_minor": 4
}
