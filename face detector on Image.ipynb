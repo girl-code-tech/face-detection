{
 "cells": [
  {
   "cell_type": "markdown",
   "metadata": {},
   "source": [
    "# computer vision library that is open source"
   ]
  },
  {
   "cell_type": "code",
   "execution_count": 1,
   "metadata": {},
   "outputs": [],
   "source": [
    "import cv2 as cv\n",
    "from random import randrange\n",
    "#The randrange() method returns a randomly selected element from range(start, stop, step).\n"
   ]
  },
  {
   "cell_type": "code",
   "execution_count": 3,
   "metadata": {},
   "outputs": [
    {
     "data": {
      "text/plain": [
       "-1"
      ]
     },
     "execution_count": 3,
     "metadata": {},
     "output_type": "execute_result"
    }
   ],
   "source": [
    "#Loading some pretrained datamodel\n",
    "trained_face_data=cv.CascadeClassifier('haarcascade_frontalface_default.xml')\n",
    "\n",
    "#an Image to Detect face\n",
    "img=cv.imread('girl.jpg')\n",
    "\n",
    "#must convert to grayScale\n",
    "grayScale_Img=cv.cvtColor(img, cv.COLOR_BGR2GRAY)\n",
    "\n",
    "#Detect faces\n",
    "face_coordinates=trained_face_data.detectMultiScale(grayScale_Img)\n",
    "\n",
    "for (x, y, w, h) in face_coordinates:\n",
    "    #cv2.rectangle(image, (x, y), (x+w, y+h), (0, 255, 0), 2)\n",
    "#Draw rectangles around the faces\n",
    "    #(x,y,w,h)=face_coordinates\n",
    "    cv.rectangle(img,(x,y),(x+w, y+h), (randrange(256),randrange(256),randrange(256)),2)\n",
    "\n",
    "\n",
    "#print(face_coordinates)\n",
    "\n",
    "\n",
    "#Display the images\n",
    "cv.imshow('RDJ', img)\n",
    "#cv.imshow('GrayScale Image', grayScale_Img)\n",
    "cv.waitKey()"
   ]
  },
  {
   "cell_type": "markdown",
   "metadata": {},
   "source": [
    "detectMultiScale function (line 10) is used to detect the faces. It takes 3 arguments — the input image, scaleFactor and minNeighbours. scaleFactor specifies how much the image size is reduced with each scale. \n",
    "minNeighbours specifies how many neighbors each candidate rectangle should have to retain it.\n",
    "We use v2.CascadeClassifier.detectMultiScale() to find faces or eyes, and it is defined like this:"
   ]
  },
  {
   "cell_type": "code",
   "execution_count": null,
   "metadata": {},
   "outputs": [],
   "source": []
  }
 ],
 "metadata": {
  "kernelspec": {
   "display_name": "Python 3",
   "language": "python",
   "name": "python3"
  },
  "language_info": {
   "codemirror_mode": {
    "name": "ipython",
    "version": 3
   },
   "file_extension": ".py",
   "mimetype": "text/x-python",
   "name": "python",
   "nbconvert_exporter": "python",
   "pygments_lexer": "ipython3",
   "version": "3.8.5"
  }
 },
 "nbformat": 4,
 "nbformat_minor": 4
}
